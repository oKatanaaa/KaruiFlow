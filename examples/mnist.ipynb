{
 "cells": [
  {
   "cell_type": "code",
   "execution_count": 1,
   "metadata": {},
   "outputs": [],
   "source": [
    "import torch\n",
    "import numpy as np\n",
    "import karuiflow as kf\n",
    "import os\n",
    "import os \n",
    "os.environ[\"KMP_DUPLICATE_LIB_OK\"]=\"TRUE\""
   ]
  },
  {
   "cell_type": "markdown",
   "metadata": {},
   "source": [
    "## Defining a neural network class"
   ]
  },
  {
   "cell_type": "code",
   "execution_count": 24,
   "metadata": {},
   "outputs": [],
   "source": [
    "class Linear(kf.nn.Module):\n",
    "    def __init__(self, dim1, dim2):\n",
    "        super().__init__()\n",
    "        value = np.random.randn(dim1, dim2).astype('float32') / np.sqrt(dim1)\n",
    "        self.weights = kf.core.Parameter(value)\n",
    "        \n",
    "    def forward(self, x):\n",
    "        return kf.matmul(x, self.weights)\n",
    "    \n",
    "\n",
    "class LinearReLU(kf.nn.Module):\n",
    "    def __init__(self, dim1, dim2):\n",
    "        super().__init__()\n",
    "        self.linear = Linear(dim1, dim2)\n",
    "        \n",
    "    def forward(self, x):\n",
    "        x = self.linear(x)\n",
    "        return kf.relu(x)\n",
    "    \n",
    "class NN(kf.nn.Module):\n",
    "    def __init__(self, in_dim, dim=128, n_classes=10):\n",
    "        super().__init__()\n",
    "        self.layer1 = LinearReLU(in_dim, 123)\n",
    "        self.layer2 = LinearReLU(123, 125)\n",
    "        self.layer3 = Linear(125, n_classes)\n",
    "    \n",
    "    def forward(self, x):\n",
    "        x = self.layer1(x)\n",
    "        x = self.layer2(x)        \n",
    "        x = self.layer3(x)\n",
    "        return kf.softmax(x)"
   ]
  },
  {
   "cell_type": "code",
   "execution_count": 25,
   "metadata": {},
   "outputs": [],
   "source": [
    "nn = NN(28 * 28)"
   ]
  },
  {
   "cell_type": "markdown",
   "metadata": {},
   "source": [
    "## Training"
   ]
  },
  {
   "cell_type": "code",
   "execution_count": 28,
   "metadata": {},
   "outputs": [],
   "source": [
    "from torchvision.datasets import CIFAR10, MNIST\n",
    "from torch.utils.data import DataLoader\n",
    "\n",
    "import ssl\n",
    "ssl._create_default_https_context = ssl._create_unverified_context"
   ]
  },
  {
   "cell_type": "code",
   "execution_count": 39,
   "metadata": {},
   "outputs": [],
   "source": [
    "indices = np.arange(BATCH_SIZE)\n",
    "\n",
    "# Cross-entropy\n",
    "def loss_fn(x, y, nn, n_classes=10):\n",
    "    x = kf.tensor(x).to('cuda', inplace=True)\n",
    "    y_pred = nn(x)\n",
    "    log_pred = kf.log(y_pred)\n",
    "    one_hot = np.zeros((BATCH_SIZE, n_classes), dtype='float32')\n",
    "    one_hot[indices, y] = 1.\n",
    "    one_hot = kf.tensor(one_hot).to('cuda', inplace=True)\n",
    "    return kf.sum(log_pred * one_hot, dim=[0, 1]) * -1. "
   ]
  },
  {
   "cell_type": "code",
   "execution_count": 40,
   "metadata": {},
   "outputs": [],
   "source": [
    "def preprocess(im):\n",
    "    im = np.asarray(im, dtype='float32').reshape(-1) / 127 - 1\n",
    "    return im"
   ]
  },
  {
   "cell_type": "code",
   "execution_count": 41,
   "metadata": {},
   "outputs": [],
   "source": [
    "# Hyper parameters\n",
    "BATCH_SIZE = 128\n",
    "EPOCHS = 3\n",
    "optim = kf.optim.SGD(nn.parameters(), lr=1e-3, momentum=0.9)"
   ]
  },
  {
   "cell_type": "code",
   "execution_count": 42,
   "metadata": {},
   "outputs": [],
   "source": [
    "# Dataset\n",
    "mnist_train = MNIST(root='.', train=True, download=True, transform=lambda x: preprocess(x))\n",
    "mnist_train = DataLoader(mnist_train, batch_size=BATCH_SIZE)"
   ]
  },
  {
   "cell_type": "code",
   "execution_count": 43,
   "metadata": {},
   "outputs": [],
   "source": [
    "# Move all network's weight to cuda gpu\n",
    "nn.to('cuda')"
   ]
  },
  {
   "cell_type": "code",
   "execution_count": 44,
   "metadata": {
    "scrolled": false
   },
   "outputs": [
    {
     "name": "stdout",
     "output_type": "stream",
     "text": [
      "Epoch: 0 Iteration: 0 Loss: 307.56183\n",
      "Epoch: 0 Iteration: 50 Loss: 63.857635\n",
      "Epoch: 0 Iteration: 100 Loss: 57.446358\n",
      "Epoch: 0 Iteration: 150 Loss: 42.459236\n",
      "Epoch: 0 Iteration: 200 Loss: 28.486177\n",
      "Epoch: 0 Iteration: 250 Loss: 45.721684\n",
      "Epoch: 0 Iteration: 300 Loss: 45.47805\n",
      "Epoch: 0 Iteration: 350 Loss: 52.888504\n",
      "Epoch: 0 Iteration: 400 Loss: 56.23818\n",
      "Epoch: 0 Iteration: 450 Loss: 35.27683\n",
      "Epoch: 1 Iteration: 0 Loss: 13.303685\n",
      "Epoch: 1 Iteration: 50 Loss: 24.778011\n",
      "Epoch: 1 Iteration: 100 Loss: 28.226936\n",
      "Epoch: 1 Iteration: 150 Loss: 17.354359\n",
      "Epoch: 1 Iteration: 200 Loss: 18.025667\n",
      "Epoch: 1 Iteration: 250 Loss: 27.962133\n",
      "Epoch: 1 Iteration: 300 Loss: 20.925299\n",
      "Epoch: 1 Iteration: 350 Loss: 34.988167\n",
      "Epoch: 1 Iteration: 400 Loss: 43.795437\n",
      "Epoch: 1 Iteration: 450 Loss: 24.033047\n",
      "Epoch: 2 Iteration: 0 Loss: 10.506221\n",
      "Epoch: 2 Iteration: 50 Loss: 19.584167\n",
      "Epoch: 2 Iteration: 100 Loss: 15.904536\n",
      "Epoch: 2 Iteration: 150 Loss: 17.589802\n",
      "Epoch: 2 Iteration: 200 Loss: 15.049864\n",
      "Epoch: 2 Iteration: 250 Loss: 20.376236\n",
      "Epoch: 2 Iteration: 300 Loss: 11.926731\n",
      "Epoch: 2 Iteration: 350 Loss: 33.730206\n",
      "Epoch: 2 Iteration: 400 Loss: 30.018154\n",
      "Epoch: 2 Iteration: 450 Loss: 19.084194\n"
     ]
    }
   ],
   "source": [
    "for epoch in range(EPOCHS):\n",
    "    for i, (im, label) in enumerate(mnist_train):\n",
    "        if len(label) != BATCH_SIZE:\n",
    "            break\n",
    "            \n",
    "        loss = loss_fn(im.numpy(), label.numpy(), nn)\n",
    "        loss.backward()\n",
    "        optim.step()\n",
    "        optim.zero_grad()\n",
    "\n",
    "        if i % 50 == 0:\n",
    "            print('Epoch:', epoch, 'Iteration:', i, 'Loss:', loss.numpy())"
   ]
  },
  {
   "cell_type": "markdown",
   "metadata": {},
   "source": [
    "## Testing"
   ]
  },
  {
   "cell_type": "code",
   "execution_count": 49,
   "metadata": {},
   "outputs": [],
   "source": [
    "import matplotlib.pyplot as plt"
   ]
  },
  {
   "cell_type": "code",
   "execution_count": 56,
   "metadata": {},
   "outputs": [],
   "source": [
    "mnist_test = MNIST(root='.', train=False, download=True, transform=lambda x: preprocess(x))"
   ]
  },
  {
   "cell_type": "code",
   "execution_count": 57,
   "metadata": {},
   "outputs": [],
   "source": [
    "mnist_test = DataLoader(mnist_test, batch_size=BATCH_SIZE)"
   ]
  },
  {
   "cell_type": "code",
   "execution_count": 58,
   "metadata": {},
   "outputs": [],
   "source": [
    "im, label = next(iter(mnist_test))\n",
    "im, label = im.numpy(), label.numpy()"
   ]
  },
  {
   "cell_type": "code",
   "execution_count": 59,
   "metadata": {},
   "outputs": [
    {
     "data": {
      "text/plain": [
       "<matplotlib.image.AxesImage at 0x281858d2508>"
      ]
     },
     "execution_count": 59,
     "metadata": {},
     "output_type": "execute_result"
    },
    {
     "data": {
      "image/png": "[encoded data removed]",
      "text/plain": [
       "<Figure size 432x288 with 1 Axes>"
      ]
     },
     "metadata": {
      "needs_background": "light"
     },
     "output_type": "display_data"
    }
   ],
   "source": [
    "plt.imshow(im[0].reshape(28, 28))"
   ]
  },
  {
   "cell_type": "code",
   "execution_count": 60,
   "metadata": {},
   "outputs": [],
   "source": [
    "nn.to('cpu')"
   ]
  },
  {
   "cell_type": "code",
   "execution_count": 62,
   "metadata": {},
   "outputs": [
    {
     "data": {
      "text/plain": [
       "array([7], dtype=int64)"
      ]
     },
     "execution_count": 62,
     "metadata": {},
     "output_type": "execute_result"
    }
   ],
   "source": [
    "nn(im[0][None, ...]).numpy().argmax(axis=-1)"
   ]
  },
  {
   "cell_type": "code",
   "execution_count": 63,
   "metadata": {},
   "outputs": [
    {
     "data": {
      "text/plain": [
       "<matplotlib.image.AxesImage at 0x2818591b4c8>"
      ]
     },
     "execution_count": 63,
     "metadata": {},
     "output_type": "execute_result"
    },
    {
     "data": {
      "image/png": "[encoded data removed]",
      "text/plain": [
       "<Figure size 432x288 with 1 Axes>"
      ]
     },
     "metadata": {
      "needs_background": "light"
     },
     "output_type": "display_data"
    }
   ],
   "source": [
    "plt.imshow(im[1].reshape(28, 28))"
   ]
  },
  {
   "cell_type": "code",
   "execution_count": 64,
   "metadata": {},
   "outputs": [
    {
     "data": {
      "text/plain": [
       "array([2], dtype=int64)"
      ]
     },
     "execution_count": 64,
     "metadata": {},
     "output_type": "execute_result"
    }
   ],
   "source": [
    "nn(im[1][None, ...]).numpy().argmax(axis=-1)"
   ]
  },
  {
   "cell_type": "code",
   "execution_count": 65,
   "metadata": {},
   "outputs": [
    {
     "data": {
      "text/plain": [
       "<matplotlib.image.AxesImage at 0x281859c9948>"
      ]
     },
     "execution_count": 65,
     "metadata": {},
     "output_type": "execute_result"
    },
    {
     "data": {
      "image/png": "[encoded data removed]",
      "text/plain": [
       "<Figure size 432x288 with 1 Axes>"
      ]
     },
     "metadata": {
      "needs_background": "light"
     },
     "output_type": "display_data"
    }
   ],
   "source": [
    "plt.imshow(im[3].reshape(28, 28))"
   ]
  },
  {
   "cell_type": "code",
   "execution_count": 60,
   "metadata": {},
   "outputs": [],
   "source": [
    "nn.to('cpu')"
   ]
  },
  {
   "cell_type": "code",
   "execution_count": 66,
   "metadata": {},
   "outputs": [
    {
     "data": {
      "text/plain": [
       "array([0], dtype=int64)"
      ]
     },
     "execution_count": 66,
     "metadata": {},
     "output_type": "execute_result"
    }
   ],
   "source": [
    "nn(im[3][None, ...]).numpy().argmax(axis=-1)"
   ]
  },
  {
   "cell_type": "code",
   "execution_count": null,
   "metadata": {},
   "outputs": [],
   "source": []
  }
 ],
 "metadata": {
  "kernelspec": {
   "display_name": "Python [conda env:tf1] *",
   "language": "python",
   "name": "conda-env-tf1-py"
  },
  "language_info": {
   "codemirror_mode": {
    "name": "ipython",
    "version": 3
   },
   "file_extension": ".py",
   "mimetype": "text/x-python",
   "name": "python",
   "nbconvert_exporter": "python",
   "pygments_lexer": "ipython3",
   "version": "3.7.9"
  }
 },
 "nbformat": 4,
 "nbformat_minor": 4
}
